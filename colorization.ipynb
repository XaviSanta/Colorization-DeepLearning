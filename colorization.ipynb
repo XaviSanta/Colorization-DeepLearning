{
  "nbformat": 4,
  "nbformat_minor": 0,
  "metadata": {
    "accelerator": "GPU",
    "colab": {
      "name": "config3_2.ipynb",
      "provenance": [],
      "collapsed_sections": [],
      "toc_visible": true
    },
    "kernelspec": {
      "display_name": "Python 3",
      "language": "python",
      "name": "python3"
    },
    "language_info": {
      "codemirror_mode": {
        "name": "ipython",
        "version": 3
      },
      "file_extension": ".py",
      "mimetype": "text/x-python",
      "name": "python",
      "nbconvert_exporter": "python",
      "pygments_lexer": "ipython3",
      "version": "3.6.8"
    },
    "widgets": {
      "application/vnd.jupyter.widget-state+json": {
        "57caf8057fbb47fca9dd64576a85c68a": {
          "model_module": "@jupyter-widgets/controls",
          "model_name": "HBoxModel",
          "state": {
            "_view_name": "HBoxView",
            "_dom_classes": [],
            "_model_name": "HBoxModel",
            "_view_module": "@jupyter-widgets/controls",
            "_model_module_version": "1.5.0",
            "_view_count": null,
            "_view_module_version": "1.5.0",
            "box_style": "",
            "layout": "IPY_MODEL_03c61fc2ca7b42898540b3476eb505f4",
            "_model_module": "@jupyter-widgets/controls",
            "children": [
              "IPY_MODEL_373d28af66724955b331b5ddb4a82b00",
              "IPY_MODEL_b7b30a9f192645ef998bf56d744454e1"
            ]
          }
        },
        "03c61fc2ca7b42898540b3476eb505f4": {
          "model_module": "@jupyter-widgets/base",
          "model_name": "LayoutModel",
          "state": {
            "_view_name": "LayoutView",
            "grid_template_rows": null,
            "right": null,
            "justify_content": null,
            "_view_module": "@jupyter-widgets/base",
            "overflow": null,
            "_model_module_version": "1.2.0",
            "_view_count": null,
            "flex_flow": null,
            "width": null,
            "min_width": null,
            "border": null,
            "align_items": null,
            "bottom": null,
            "_model_module": "@jupyter-widgets/base",
            "top": null,
            "grid_column": null,
            "overflow_y": null,
            "overflow_x": null,
            "grid_auto_flow": null,
            "grid_area": null,
            "grid_template_columns": null,
            "flex": null,
            "_model_name": "LayoutModel",
            "justify_items": null,
            "grid_row": null,
            "max_height": null,
            "align_content": null,
            "visibility": null,
            "align_self": null,
            "height": null,
            "min_height": null,
            "padding": null,
            "grid_auto_rows": null,
            "grid_gap": null,
            "max_width": null,
            "order": null,
            "_view_module_version": "1.2.0",
            "grid_template_areas": null,
            "object_position": null,
            "object_fit": null,
            "grid_auto_columns": null,
            "margin": null,
            "display": null,
            "left": null
          }
        },
        "373d28af66724955b331b5ddb4a82b00": {
          "model_module": "@jupyter-widgets/controls",
          "model_name": "FloatProgressModel",
          "state": {
            "_view_name": "ProgressView",
            "style": "IPY_MODEL_1b17d846a91b436397960beb944f0429",
            "_dom_classes": [],
            "description": "",
            "_model_name": "FloatProgressModel",
            "bar_style": "success",
            "max": 1,
            "_view_module": "@jupyter-widgets/controls",
            "_model_module_version": "1.5.0",
            "value": 1,
            "_view_count": null,
            "_view_module_version": "1.5.0",
            "orientation": "horizontal",
            "min": 0,
            "description_tooltip": null,
            "_model_module": "@jupyter-widgets/controls",
            "layout": "IPY_MODEL_a831a446eced449fa8035c21322e4499"
          }
        },
        "b7b30a9f192645ef998bf56d744454e1": {
          "model_module": "@jupyter-widgets/controls",
          "model_name": "HTMLModel",
          "state": {
            "_view_name": "HTMLView",
            "style": "IPY_MODEL_b3bd94e5d2a0456e82863ac7ef67c5f7",
            "_dom_classes": [],
            "description": "",
            "_model_name": "HTMLModel",
            "placeholder": "​",
            "_view_module": "@jupyter-widgets/controls",
            "_model_module_version": "1.5.0",
            "value": " 170500096/? [00:06&lt;00:00, 25407435.31it/s]",
            "_view_count": null,
            "_view_module_version": "1.5.0",
            "description_tooltip": null,
            "_model_module": "@jupyter-widgets/controls",
            "layout": "IPY_MODEL_30ced47366554aab891ae4203ca8c660"
          }
        },
        "1b17d846a91b436397960beb944f0429": {
          "model_module": "@jupyter-widgets/controls",
          "model_name": "ProgressStyleModel",
          "state": {
            "_view_name": "StyleView",
            "_model_name": "ProgressStyleModel",
            "description_width": "initial",
            "_view_module": "@jupyter-widgets/base",
            "_model_module_version": "1.5.0",
            "_view_count": null,
            "_view_module_version": "1.2.0",
            "bar_color": null,
            "_model_module": "@jupyter-widgets/controls"
          }
        },
        "a831a446eced449fa8035c21322e4499": {
          "model_module": "@jupyter-widgets/base",
          "model_name": "LayoutModel",
          "state": {
            "_view_name": "LayoutView",
            "grid_template_rows": null,
            "right": null,
            "justify_content": null,
            "_view_module": "@jupyter-widgets/base",
            "overflow": null,
            "_model_module_version": "1.2.0",
            "_view_count": null,
            "flex_flow": null,
            "width": null,
            "min_width": null,
            "border": null,
            "align_items": null,
            "bottom": null,
            "_model_module": "@jupyter-widgets/base",
            "top": null,
            "grid_column": null,
            "overflow_y": null,
            "overflow_x": null,
            "grid_auto_flow": null,
            "grid_area": null,
            "grid_template_columns": null,
            "flex": null,
            "_model_name": "LayoutModel",
            "justify_items": null,
            "grid_row": null,
            "max_height": null,
            "align_content": null,
            "visibility": null,
            "align_self": null,
            "height": null,
            "min_height": null,
            "padding": null,
            "grid_auto_rows": null,
            "grid_gap": null,
            "max_width": null,
            "order": null,
            "_view_module_version": "1.2.0",
            "grid_template_areas": null,
            "object_position": null,
            "object_fit": null,
            "grid_auto_columns": null,
            "margin": null,
            "display": null,
            "left": null
          }
        },
        "b3bd94e5d2a0456e82863ac7ef67c5f7": {
          "model_module": "@jupyter-widgets/controls",
          "model_name": "DescriptionStyleModel",
          "state": {
            "_view_name": "StyleView",
            "_model_name": "DescriptionStyleModel",
            "description_width": "",
            "_view_module": "@jupyter-widgets/base",
            "_model_module_version": "1.5.0",
            "_view_count": null,
            "_view_module_version": "1.2.0",
            "_model_module": "@jupyter-widgets/controls"
          }
        },
        "30ced47366554aab891ae4203ca8c660": {
          "model_module": "@jupyter-widgets/base",
          "model_name": "LayoutModel",
          "state": {
            "_view_name": "LayoutView",
            "grid_template_rows": null,
            "right": null,
            "justify_content": null,
            "_view_module": "@jupyter-widgets/base",
            "overflow": null,
            "_model_module_version": "1.2.0",
            "_view_count": null,
            "flex_flow": null,
            "width": null,
            "min_width": null,
            "border": null,
            "align_items": null,
            "bottom": null,
            "_model_module": "@jupyter-widgets/base",
            "top": null,
            "grid_column": null,
            "overflow_y": null,
            "overflow_x": null,
            "grid_auto_flow": null,
            "grid_area": null,
            "grid_template_columns": null,
            "flex": null,
            "_model_name": "LayoutModel",
            "justify_items": null,
            "grid_row": null,
            "max_height": null,
            "align_content": null,
            "visibility": null,
            "align_self": null,
            "height": null,
            "min_height": null,
            "padding": null,
            "grid_auto_rows": null,
            "grid_gap": null,
            "max_width": null,
            "order": null,
            "_view_module_version": "1.2.0",
            "grid_template_areas": null,
            "object_position": null,
            "object_fit": null,
            "grid_auto_columns": null,
            "margin": null,
            "display": null,
            "left": null
          }
        }
      }
    }
  },
  "cells": [
    {
      "cell_type": "markdown",
      "metadata": {
        "id": "AR6BBvYTpiNr",
        "colab_type": "text"
      },
      "source": [
        "Based on:\n",
        "*   https://arxiv.org/pdf/1803.05400.pdf\n",
        "*   https://github.com/PartheshSoni/Image-colorization-using-GANs/blob/master/ImageColourization.ipynb\n"
      ]
    },
    {
      "cell_type": "code",
      "metadata": {
        "colab_type": "code",
        "id": "UBNIY0sWqXMg",
        "colab": {}
      },
      "source": [
        "\n",
        "import numpy as np\n",
        "import h5py\n",
        "import pandas as pd\n",
        "import matplotlib.pyplot as plt\n",
        "import matplotlib.gridspec as gridspec\n",
        "import cv2\n",
        "\n",
        "from google.colab import files\n",
        "import smtplib\n",
        "\n",
        "from sklearn.utils import shuffle\n",
        "from google.colab import drive\n",
        "\n",
        "import torch\n",
        "import torch.nn as nn\n"
      ],
      "execution_count": null,
      "outputs": []
    },
    {
      "cell_type": "code",
      "metadata": {
        "colab_type": "code",
        "id": "N68yNhL9z3jr",
        "colab": {
          "base_uri": "https://localhost:8080/",
          "height": 121
        },
        "outputId": "0910d533-c915-40db-c549-a501968015f3"
      },
      "source": [
        "drive.mount('/content/gdrive',force_remount=True)\n",
        "data_path = '/content/gdrive/My Drive/DeepLearning_2020/FinalProject/Data/'\n",
        "results_path = '/content/gdrive/My Drive/DeepLearning_2020/FinalProject/Results/'\n"
      ],
      "execution_count": null,
      "outputs": [
        {
          "output_type": "stream",
          "text": [
            "Go to this URL in a browser: https://accounts.google.com/o/oauth2/auth?client_id=947318989803-6bn6qk8qdgf4n4g3pfee6491hc0brc4i.apps.googleusercontent.com&redirect_uri=urn%3aietf%3awg%3aoauth%3a2.0%3aoob&response_type=code&scope=email%20https%3a%2f%2fwww.googleapis.com%2fauth%2fdocs.test%20https%3a%2f%2fwww.googleapis.com%2fauth%2fdrive%20https%3a%2f%2fwww.googleapis.com%2fauth%2fdrive.photos.readonly%20https%3a%2f%2fwww.googleapis.com%2fauth%2fpeopleapi.readonly\n",
            "\n",
            "Enter your authorization code:\n",
            "··········\n",
            "Mounted at /content/gdrive\n"
          ],
          "name": "stdout"
        }
      ]
    },
    {
      "cell_type": "code",
      "metadata": {
        "colab_type": "code",
        "id": "btWe5_6_y5tr",
        "colab": {
          "base_uri": "https://localhost:8080/",
          "height": 368,
          "referenced_widgets": [
            "57caf8057fbb47fca9dd64576a85c68a",
            "03c61fc2ca7b42898540b3476eb505f4",
            "373d28af66724955b331b5ddb4a82b00",
            "b7b30a9f192645ef998bf56d744454e1",
            "1b17d846a91b436397960beb944f0429",
            "a831a446eced449fa8035c21322e4499",
            "b3bd94e5d2a0456e82863ac7ef67c5f7",
            "30ced47366554aab891ae4203ca8c660"
          ]
        },
        "outputId": "cc2cbac2-0733-4dd3-f2d1-f0df2bd5bb2c"
      },
      "source": [
        "import torch\n",
        "import torchvision\n",
        "import torchvision.transforms as transforms\n",
        "from torchvision.datasets import CIFAR10\n",
        "transform = transforms.Compose(\n",
        "    [transforms.ToTensor(),\n",
        "     transforms.Normalize((0.5, 0.5, 0.5), (0.5, 0.5, 0.5))])\n",
        "trainset = CIFAR10(root='./data', train=True, download=True, transform=transform)\n",
        "train_loader = torch.utils.data.DataLoader(trainset, batch_size=256, shuffle=True, num_workers=2)\n",
        "\n",
        "testset = CIFAR10(root='./data', train=False, download=True, transform=transform)\n",
        "test_loader = torch.utils.data.DataLoader(testset, batch_size=4, shuffle=True, num_workers=2)\n",
        "\n",
        "# get some random training images\n",
        "dataiter = iter(train_loader)\n",
        "images, labels = dataiter.next()\n",
        "def imshow(img):\n",
        "    img = img / 2 + 0.5     # unnormalize\n",
        "    npimg = img.detach().numpy()\n",
        "    plt.imshow(np.transpose(npimg, (1, 2, 0)))\n",
        "    plt.show()\n",
        "\n",
        "def imshow_gray(img):\n",
        "    img = img / 2 + 0.5     # unnormalize\n",
        "    npimg = img.detach().numpy()\n",
        "    plt.imshow(npimg)\n",
        "    plt.show()\n",
        "\n",
        "# show images\n",
        "imshow(torchvision.utils.make_grid(images))  "
      ],
      "execution_count": null,
      "outputs": [
        {
          "output_type": "stream",
          "text": [
            "Downloading https://www.cs.toronto.edu/~kriz/cifar-10-python.tar.gz to ./data/cifar-10-python.tar.gz\n"
          ],
          "name": "stdout"
        },
        {
          "output_type": "display_data",
          "data": {
            "application/vnd.jupyter.widget-view+json": {
              "model_id": "57caf8057fbb47fca9dd64576a85c68a",
              "version_minor": 0,
              "version_major": 2
            },
            "text/plain": [
              "HBox(children=(FloatProgress(value=1.0, bar_style='info', max=1.0), HTML(value='')))"
            ]
          },
          "metadata": {
            "tags": []
          }
        },
        {
          "output_type": "stream",
          "text": [
            "Extracting ./data/cifar-10-python.tar.gz to ./data\n",
            "Files already downloaded and verified\n"
          ],
          "name": "stdout"
        },
        {
          "output_type": "display_data",
          "data": {
            "image/png": "[encoded data removed]",
            "text/plain": [
              "<Figure size 432x288 with 1 Axes>"
            ]
          },
          "metadata": {
            "tags": [],
            "needs_background": "light"
          }
        },
        {
          "output_type": "stream",
          "text": [
            "\n"
          ],
          "name": "stdout"
        }
      ]
    },
    {
      "cell_type": "markdown",
      "metadata": {
        "id": "xfrXxH6lulFT",
        "colab_type": "text"
      },
      "source": [
        "# Class encoder decoder"
      ]
    },
    {
      "cell_type": "code",
      "metadata": {
        "id": "wR1NPwi3uowr",
        "colab_type": "code",
        "colab": {}
      },
      "source": [
        "import torch\n",
        "import torch.nn as nn\n",
        "\n",
        "# Encoder definition with 3 COnv-BN-ReLU blocks and fully-connected layer\n",
        "class Encoder(nn.Module):\n",
        "  def __init__(self,out_features,base_channels=16):\n",
        "    super(Encoder, self).__init__()\n",
        "\n",
        "    self.C1 = nn.Conv2d(3,64,kernel_size=1,stride = 1,padding = 0)\n",
        "    self.C2 = nn.Conv2d(64,128,kernel_size=2,stride = 2,padding = 0)\n",
        "    self.C3 = nn.Conv2d(128,256,kernel_size=2,stride = 2,padding = 0)\n",
        "\n",
        "    self.batchnorm1 = nn.BatchNorm2d(64)\n",
        "    self.batchnorm2 = nn.BatchNorm2d(128)\n",
        "    self.batchnorm3 = nn.BatchNorm2d(256)\n",
        "\n",
        "    self.LReLU = nn.LeakyReLU(0.2)\n",
        "\n",
        "    self.fc1 = nn.Linear(256*8*8,1)\n",
        "  \n",
        "  def forward(self,x):\n",
        "    C1 = self.C1(x)\n",
        "    C1 = self.batchnorm1(C1)\n",
        "    C1 = self.LReLU(C1)\n",
        "\n",
        "    C2 = self.C2(C1)\n",
        "    C2 = self.batchnorm2(C2)\n",
        "    C2 = self.LReLU(C2)\n",
        "\n",
        "    C3 = self.C3(C2)\n",
        "    C3 = self.batchnorm3(C3)\n",
        "    C3 = self.LReLU(C3)\n",
        "\n",
        "    D = C3.view(C3.shape[0],-1)\n",
        "    D = self.fc1(D)\n",
        "\n",
        "    return torch.sigmoid(D)\n",
        "    \n",
        "# Decoder definition with a fully-connected layer and 3 BN-ReLU-COnv blocks and \n",
        "class Decoder(nn.Module):\n",
        "  def __init__(self,out_features,base_channels=16):\n",
        "    super(Decoder, self).__init__()\n",
        "    self.base_channels = base_channels\n",
        "\n",
        "    self.C1 = nn.Conv2d(1,64,kernel_size=1,stride = 1,padding = 0)\n",
        "    self.C2 = nn.Conv2d(64,128,kernel_size=2,stride = 2,padding = 0)\n",
        "    self.C3 = nn.Conv2d(128,256,kernel_size=2,stride = 2,padding = 0)\n",
        "    \n",
        "    self.c_batchnorm1 = nn.BatchNorm2d(64)\n",
        "    self.c_batchnorm2 = nn.BatchNorm2d(128)\n",
        "    self.c_batchnorm3 = nn.BatchNorm2d(256)\n",
        "\n",
        "    self.DC1 = nn.ConvTranspose2d(256,128,kernel_size=2,stride=2,padding = 0)\n",
        "    self.DC2 = nn.ConvTranspose2d(256,64,kernel_size=2,stride=2,padding = 0)\n",
        "\n",
        "    self.batchnorm1 = nn.BatchNorm2d(128)\n",
        "    self.batchnorm2 = nn.BatchNorm2d(64)\n",
        "\n",
        "    self.merging = nn.Conv2d(128,3,kernel_size=1,stride = 1,padding = 0)\n",
        "\n",
        "    self.dropout = nn.Dropout2d(0.5)\n",
        "    self.LReLU = nn.LeakyReLU(0.2)\n",
        "  \n",
        "  def forward(self,x):\n",
        "    C1 = self.C1(x)\n",
        "    C1 = self.LReLU(self.c_batchnorm1(C1))\n",
        "\n",
        "    C2 = self.C2(C1)\n",
        "    C2 = self.LReLU(self.c_batchnorm2(C2))\n",
        "\n",
        "    C3 = self.C3(C2)\n",
        "    C3 = self.LReLU(self.c_batchnorm3(C3))\n",
        "\n",
        "    #####\n",
        "    DC1 = self.DC1(C3)\n",
        "    DC1 = self.LReLU(self.batchnorm1(DC1))\n",
        "    DC1 = torch.cat((DC1,C2),dim=1)\n",
        "    DC1 = self.dropout(DC1)\n",
        "    \n",
        "    DC2 = self.DC2(DC1)\n",
        "    DC2 = self.LReLU(self.batchnorm2(DC2))\n",
        "    DC2 = torch.cat((DC2,C1),dim=1)\n",
        "    \n",
        "    CC4 = self.merging(DC2)\n",
        "    # print(CC4.size())\n",
        "\n",
        "    return torch.tanh(CC4)"
      ],
      "execution_count": null,
      "outputs": []
    },
    {
      "cell_type": "markdown",
      "metadata": {
        "id": "j8evV96YuqTR",
        "colab_type": "text"
      },
      "source": [
        "#Discriminator and Generator\n"
      ]
    },
    {
      "cell_type": "code",
      "metadata": {
        "id": "ZKIWDVxcuySf",
        "colab_type": "code",
        "colab": {}
      },
      "source": [
        "# Discriminator similar to VAE encoder\n",
        "class Discriminator(nn.Module):\n",
        "  def __init__(self, base_channels=16):\n",
        "    super(Discriminator, self).__init__()\n",
        "    # last fully connected layer acts as a a binary classifier\n",
        "    self.classifier = Encoder(3,base_channels)\n",
        "\n",
        "  # Forward pass obtaining the discriminator probability\n",
        "  def forward(self,x):\n",
        "    out = self.classifier(x)\n",
        "    # use sigmoid to get the real/fake image probability\n",
        "    return torch.sigmoid(out)\n",
        "\n",
        "# Generator is defined as VAE decoder\n",
        "class Generator(nn.Module):\n",
        "  def __init__(self,in_features,base_channels=16):\n",
        "    super(Generator, self).__init__()\n",
        "    self.base_channels = base_channels\n",
        "    self.in_features = in_features\n",
        "    self.decoder = Decoder(in_features,base_channels)\n",
        "\n",
        "  # Generate an image from vector z\n",
        "  def forward(self,z):\n",
        "    return torch.sigmoid(self.decoder(z))\n",
        "\n",
        "  # Sample a set of images from random vectors z\n",
        "  def sample(self,grey_images):\n",
        "    return self.decoder(grey_images)"
      ],
      "execution_count": null,
      "outputs": []
    },
    {
      "cell_type": "markdown",
      "metadata": {
        "id": "O6o9jDPIu2IJ",
        "colab_type": "text"
      },
      "source": [
        ""
      ]
    },
    {
      "cell_type": "code",
      "metadata": {
        "id": "PdR-kqGYzrVF",
        "colab_type": "code",
        "colab": {}
      },
      "source": [
        "def toGrey(images):\n",
        "  s = list(images.size())\n",
        "  r = torch.zeros(s[0],1,s[2],s[3])\n",
        "  r[:,0,:,:] = images[:,0,:,:]*0.2989 + images[:,1,:,:]*0.5870 +images[:,2,:,:]*0.1140\n",
        "  return r"
      ],
      "execution_count": null,
      "outputs": []
    },
    {
      "cell_type": "code",
      "metadata": {
        "id": "bffiK5I5u78U",
        "colab_type": "code",
        "colab": {}
      },
      "source": [
        "# GAN Train function. We have a generator and discriminator models and their respective optimizers.\n",
        "def train_GAN(gen, disc,  train_loader, optimizer_gen, optim_disc, adverasarial_weight = 1.0,\n",
        "              num_epochs=10, model_name='gan_color.ckpt', device='cpu'):\n",
        "    gen = gen.to(device)\n",
        "    gen.train() # Set the generator in train mode\n",
        "    disc = disc.to(device)\n",
        "    disc.train() # Set the discriminator in train mode\n",
        "\n",
        "    total_step = len(train_loader)\n",
        "    losses_list = []\n",
        "    mse_loss = nn.MSELoss()\n",
        "    # Iterate over epochs\n",
        "    for epoch in range(num_epochs):\n",
        "        # Iterate the dataset\n",
        "        disc_loss_avg = 0\n",
        "        gen_loss_avg = 0\n",
        "        error_loss_avg = 0\n",
        "\n",
        "        nBatches = 0\n",
        "        update_generator = True\n",
        "\n",
        "        for i, (real_images, labels) in enumerate(train_loader):\n",
        "            # Get batch of samples and labels\n",
        "            real_images = real_images.to(device)\n",
        "            n_images = real_images.shape[0]\n",
        "\n",
        "            # Forward pass\n",
        "            # Use greyScale images as \n",
        "            # print(type(real_images))\n",
        "            grey_images = toGrey(real_images).to(device)\n",
        "\n",
        "            if i == 0 :\n",
        "              gen.eval()\n",
        "              fake_images = gen.sample(grey_images)\n",
        "              imshow_gray(real_images[0,0].cpu())\n",
        "              imshow(fake_images[0].cpu())\n",
        "              imshow(real_images[0].cpu())\n",
        "              gen.train()\n",
        "              print(fake_images.shape,real_images.shape)\n",
        "\n",
        "            fake_images = gen.sample(grey_images)\n",
        "\n",
        "            # fake_images = np.dot(real_images[...,:3], [0.2989, 0.5870, 0.1140])\n",
        "            # fake_images = toGrey(real_images)\n",
        "            \n",
        "            # Use the discriminator to obtain the probabilties for real and generate imee\n",
        "            prob_real = disc(real_images)\n",
        "            prob_fake = disc(fake_images)\n",
        "            \n",
        "            # Generator loss\n",
        "            #gen_loss = -torch.log(prob_fake).mean()\n",
        "            error_loss = mse_loss(fake_images,real_images)\n",
        "            gen_loss = -torch.log(prob_fake).mean()*adverasarial_weight\n",
        "            # Discriminator loss\n",
        "            disc_loss = -0.5*(torch.log(prob_real) + torch.log(1-prob_fake)).mean()\n",
        "\n",
        "            \n",
        "            # We are going to update the discriminator and generator parameters alternatively at each iteration\n",
        "\n",
        "            if(update_generator):\n",
        "              # Optimize generator\n",
        "              # Backward and optimize\n",
        "              optimizer_gen.zero_grad()\n",
        "              (gen_loss+error_loss).backward() # Necessary to not erase intermediate variables needed for computing disc_loss gradient\n",
        "              optimizer_gen.step()\n",
        "              update_generator = False\n",
        "            else:           \n",
        "              # Optimize discriminator\n",
        "              # Backward and optimize\n",
        "              optimizer_disc.zero_grad()\n",
        "              disc_loss.backward()\n",
        "              optimizer_disc.step()\n",
        "              update_generator = True\n",
        "                \n",
        "\n",
        "            disc_loss_avg += disc_loss.cpu().item()\n",
        "            gen_loss_avg += gen_loss.cpu().item()\n",
        "            error_loss_avg = error_loss.cpu().item()\n",
        "            nBatches+=1\n",
        "            if (i+1) % 200 == 0:\n",
        "                print ('Epoch [{}/{}], Step [{}/{}], Gen. Loss: {:.4f}, Disc Loss: {:.4f},, Error Loss: {:.4f}' \n",
        "                       .format(epoch+1, num_epochs, i+1, total_step, gen_loss_avg / nBatches, disc_loss_avg / nBatches, error_loss_avg / nBatches))\n",
        "        print ('Epoch [{}/{}], Step [{}/{}], Gen. Loss: {:.4f}, Disc Loss: {:.4f},, Error Loss: {:.4f}' \n",
        "                       .format(epoch+1, num_epochs, i+1, total_step, gen_loss_avg / nBatches, disc_loss_avg / nBatches, error_loss_avg / nBatches))\n",
        "        # Save model\n",
        "        losses_list.append(disc_loss_avg / nBatches)\n",
        "        torch.save(gan_gen.state_dict(), results_path+ '/' + model_name)\n",
        "          \n",
        "    return losses_list "
      ],
      "execution_count": null,
      "outputs": []
    },
    {
      "cell_type": "code",
      "metadata": {
        "id": "sxyIH4wgvDWz",
        "colab_type": "code",
        "colab": {}
      },
      "source": [
        "# Define Geneartor and Discriminator networks\n",
        "gan_gen = Generator(32)\n",
        "gan_disc = Discriminator()\n",
        "\n",
        "print(gan_gen)\n",
        "print(gan_disc)\n",
        "#Initialize indepdent optimizer for both networks\n",
        "optimizer_gen = torch.optim.Adam(gan_gen.parameters(),lr = 0.0001, weight_decay=1e-5)\n",
        "optimizer_disc = torch.optim.Adam(gan_disc.parameters(),lr = 0.0001, weight_decay=1e-5)\n",
        "\n",
        "# Train the GAN\n",
        "device = torch.device('cuda:0' if torch.cuda.is_available() else 'cpu')\n",
        "loss_list = train_GAN(gan_gen,gan_disc, train_loader, optimizer_gen, optimizer_disc, adverasarial_weight = 0.5,num_epochs=100, model_name='gan_color_do05_aw05.ckpt', device=device)"
      ],
      "execution_count": null,
      "outputs": []
    },
    {
      "cell_type": "markdown",
      "metadata": {
        "id": "uE5clWS_hu11",
        "colab_type": "text"
      },
      "source": [
        "TEST\n"
      ]
    },
    {
      "cell_type": "code",
      "metadata": {
        "id": "uBhlIShshuav",
        "colab_type": "code",
        "colab": {
          "base_uri": "https://localhost:8080/",
          "height": 515
        },
        "outputId": "ad5158e2-3a8f-474f-fe2f-1896353ef4c3"
      },
      "source": [
        "# Load generator\n",
        "gan_gen = Generator(32)\n",
        "# Change file name to test different model. Tables with configurations used in README\n",
        "gan_gen.load_state_dict(torch.load(results_path+'/gan_color2.ckpt'))\n",
        "gan_gen.eval() # Put in eval model\n",
        "gan_gen = gan_gen.to(device)\n",
        "\n",
        "# get some random training images\n",
        "dataiter = iter(test_loader)\n",
        "images, labels = dataiter.next()\n",
        "grey_images = toGrey(images)\n",
        "x_gen = gan_gen.sample(grey_images.to(device))\n",
        "\n",
        "imshow(images[0])\n",
        "imshow(x_gen[0].cpu())\n",
        "\n"
      ],
      "execution_count": null,
      "outputs": [
        {
          "output_type": "display_data",
          "data": {
            "image/png": "[encoded data removed]",
            "text/plain": [
              "<Figure size 432x288 with 1 Axes>"
            ]
          },
          "metadata": {
            "tags": [],
            "needs_background": "light"
          }
        },
        {
          "output_type": "display_data",
          "data": {
            "image/png": "[encoded data removed]",
            "text/plain": [
              "<Figure size 432x288 with 1 Axes>"
            ]
          },
          "metadata": {
            "tags": [],
            "needs_background": "light"
          }
        }
      ]
    }
  ]
}